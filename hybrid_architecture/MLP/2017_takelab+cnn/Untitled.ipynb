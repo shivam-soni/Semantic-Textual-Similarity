{
 "cells": [
  {
   "cell_type": "code",
   "execution_count": 7,
   "metadata": {},
   "outputs": [],
   "source": [
    "import cnn_sts as cn"
   ]
  },
  {
   "cell_type": "code",
   "execution_count": 9,
   "metadata": {},
   "outputs": [],
   "source": [
    "c = dict()\n",
    "c['num_runs']   = 3\n",
    "c['num_epochs'] = 64\n",
    "c['num_batchs'] = 2\n",
    "c['batch_size'] = 3000\n",
    "c['wordvectdim']  = 300\n",
    "c['sentencepad']  = 60\n",
    "c['num_classes']  = 6\n",
    "c['cnnfilters']     = {1: 1800}\n",
    "c['cnninitial']     = 'he_uniform'\n",
    "c['cnnactivate']    = 'relu'\n",
    "c['densedimension'] = list([1800])\n",
    "c['denseinitial']   = 'he_uniform'\n",
    "c['denseactivate']  = 'tanh'\n",
    "c['optimizer']  = 'adam'"
   ]
  },
  {
   "cell_type": "code",
   "execution_count": 10,
   "metadata": {},
   "outputs": [],
   "source": [
    "tsk= cn.STSTask(c)"
   ]
  },
  {
   "cell_type": "code",
   "execution_count": 12,
   "metadata": {},
   "outputs": [
    {
     "name": "stdout",
     "output_type": "stream",
     "text": [
      "inside convo: \n",
      "(?, 60, 300)\n",
      "(?, 60, 300)\n",
      "WARNING:tensorflow:From /apps/anaconda3/lib/python3.7/site-packages/tensorflow_core/python/ops/resource_variable_ops.py:1630: calling BaseResourceVariable.__init__ (from tensorflow.python.ops.resource_variable_ops) with constraint is deprecated and will be removed in a future version.\n",
      "Instructions for updating:\n",
      "If using Keras pass *_constraint arguments to layers.\n",
      "(?, 60, 1800)\n",
      "(?, 60, 1800)\n",
      "inside max\n",
      "(?, 1, 1800)\n",
      "(?, 1, 1800)\n",
      "inside flat\n",
      "(?, 1800)\n",
      "(?, 1800)\n",
      "(?, 1800)\n",
      "(?, 3600)\n",
      "inside dense\n",
      "(?, 1800)\n",
      "kd\n",
      "(?, 6)\n"
     ]
    }
   ],
   "source": [
    "tsk.create_model()"
   ]
  },
  {
   "cell_type": "code",
   "execution_count": 17,
   "metadata": {},
   "outputs": [
    {
     "name": "stdout",
     "output_type": "stream",
     "text": [
      "Loading GloVe...(This might take one or two minutes.)\n"
     ]
    }
   ],
   "source": [
    "tsk.load_resc('glove.840B.300d.txt')\n"
   ]
  },
  {
   "cell_type": "code",
   "execution_count": 18,
   "metadata": {},
   "outputs": [
    {
     "name": "stdout",
     "output_type": "stream",
     "text": [
      "counter 1\n",
      "sl slice(0, 1379, None)\n",
      "(1379,)\n",
      "[Test]=[0.7664]\n"
     ]
    },
    {
     "data": {
      "text/plain": [
       "([0.7664],\n",
       " array([3.01930759, 4.38307604, 4.17335469, ..., 2.00090396, 2.14591413,\n",
       "        2.10718082]))"
      ]
     },
     "execution_count": 18,
     "metadata": {},
     "output_type": "execute_result"
    }
   ],
   "source": [
    "tsk.load_data('sts-train.csv', 'sts-dev.csv', 'sts-test.csv')\n"
   ]
  },
  {
   "cell_type": "code",
   "execution_count": 23,
   "metadata": {},
   "outputs": [
    {
     "name": "stdout",
     "output_type": "stream",
     "text": [
      "counter 1\n",
      "sl slice(0, 1379, None)\n",
      "(1379,)\n",
      "[Test]=[0.7762]\n"
     ]
    }
   ],
   "source": [
    "tsk.model.load_weights('weightfile0')\n",
    "l=tsk.eval_model1()"
   ]
  },
  {
   "cell_type": "code",
   "execution_count": 24,
   "metadata": {},
   "outputs": [
    {
     "data": {
      "text/plain": [
       "([0.7762],\n",
       " array([3.54232341, 4.67332291, 4.18211007, ..., 1.62091905, 1.59009893,\n",
       "        1.36366148]))"
      ]
     },
     "execution_count": 24,
     "metadata": {},
     "output_type": "execute_result"
    }
   ],
   "source": [
    "l"
   ]
  },
  {
   "cell_type": "code",
   "execution_count": 26,
   "metadata": {},
   "outputs": [
    {
     "data": {
      "text/plain": [
       "(1379,)"
      ]
     },
     "execution_count": 26,
     "metadata": {},
     "output_type": "execute_result"
    }
   ],
   "source": [
    "l[1].shape"
   ]
  },
  {
   "cell_type": "code",
   "execution_count": 1,
   "metadata": {},
   "outputs": [],
   "source": [
    "import numpy as np"
   ]
  },
  {
   "cell_type": "code",
   "execution_count": 10,
   "metadata": {},
   "outputs": [],
   "source": [
    "arr= np.random.randn(5,3)"
   ]
  },
  {
   "cell_type": "code",
   "execution_count": 12,
   "metadata": {},
   "outputs": [
    {
     "data": {
      "text/plain": [
       "array([[-0.99653334, -1.68416886, -1.43351852],\n",
       "       [ 0.90225156,  1.13908162, -1.12996816],\n",
       "       [ 2.14821817,  0.56741721,  0.0212782 ],\n",
       "       [ 0.24275738, -1.04373585, -0.28337288],\n",
       "       [-1.57631183,  0.95838013,  0.2565694 ]])"
      ]
     },
     "execution_count": 12,
     "metadata": {},
     "output_type": "execute_result"
    }
   ],
   "source": [
    "arr"
   ]
  },
  {
   "cell_type": "code",
   "execution_count": 13,
   "metadata": {},
   "outputs": [],
   "source": [
    "a= np.random.randn(5)"
   ]
  },
  {
   "cell_type": "code",
   "execution_count": 14,
   "metadata": {},
   "outputs": [
    {
     "data": {
      "text/plain": [
       "array([-0.50974171,  0.27113209, -0.14515201,  0.87915781, -0.73611647])"
      ]
     },
     "execution_count": 14,
     "metadata": {},
     "output_type": "execute_result"
    }
   ],
   "source": [
    "a"
   ]
  },
  {
   "cell_type": "code",
   "execution_count": 26,
   "metadata": {},
   "outputs": [
    {
     "data": {
      "text/plain": [
       "(5, 1)"
      ]
     },
     "execution_count": 26,
     "metadata": {},
     "output_type": "execute_result"
    }
   ],
   "source": [
    "a=a.reshape(5,1)\n",
    "a.shape"
   ]
  },
  {
   "cell_type": "code",
   "execution_count": 30,
   "metadata": {},
   "outputs": [],
   "source": [
    "x=np.append(arr,a,axis=1)"
   ]
  },
  {
   "cell_type": "code",
   "execution_count": 1,
   "metadata": {},
   "outputs": [
    {
     "ename": "NameError",
     "evalue": "name 'x' is not defined",
     "output_type": "error",
     "traceback": [
      "\u001b[0;31m---------------------------------------------------------------------------\u001b[0m",
      "\u001b[0;31mNameError\u001b[0m                                 Traceback (most recent call last)",
      "\u001b[0;32m<ipython-input-1-9f2b259887ef>\u001b[0m in \u001b[0;36m<module>\u001b[0;34m\u001b[0m\n\u001b[0;32m----> 1\u001b[0;31m \u001b[0mx\u001b[0m\u001b[0;34m.\u001b[0m\u001b[0mshape\u001b[0m\u001b[0;34m\u001b[0m\u001b[0;34m\u001b[0m\u001b[0m\n\u001b[0m",
      "\u001b[0;31mNameError\u001b[0m: name 'x' is not defined"
     ]
    }
   ],
   "source": [
    "x.shape"
   ]
  },
  {
   "cell_type": "code",
   "execution_count": null,
   "metadata": {},
   "outputs": [],
   "source": []
  }
 ],
 "metadata": {
  "kernelspec": {
   "display_name": "Python 3",
   "language": "python",
   "name": "python3"
  },
  "language_info": {
   "codemirror_mode": {
    "name": "ipython",
    "version": 3
   },
   "file_extension": ".py",
   "mimetype": "text/x-python",
   "name": "python",
   "nbconvert_exporter": "python",
   "pygments_lexer": "ipython3",
   "version": "3.7.4"
  }
 },
 "nbformat": 4,
 "nbformat_minor": 2
}
