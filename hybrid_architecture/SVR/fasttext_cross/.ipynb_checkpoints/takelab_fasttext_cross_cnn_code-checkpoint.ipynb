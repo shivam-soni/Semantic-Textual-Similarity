{
 "cells": [
  {
   "cell_type": "code",
   "execution_count": 1,
   "metadata": {
    "colab": {
     "base_uri": "https://localhost:8080/",
     "height": 197
    },
    "colab_type": "code",
    "id": "TKfMxbqm-ALz",
    "outputId": "fc33dd01-3774-42e9-d787-fc90e073c21c"
   },
   "outputs": [
    {
     "name": "stderr",
     "output_type": "stream",
     "text": [
      "[nltk_data] Downloading package wordnet_ic to\n",
      "[nltk_data]     C:\\Users\\shugupta\\AppData\\Roaming\\nltk_data...\n",
      "[nltk_data]   Package wordnet_ic is already up-to-date!\n",
      "[nltk_data] Downloading package wordnet to\n",
      "[nltk_data]     C:\\Users\\shugupta\\AppData\\Roaming\\nltk_data...\n",
      "[nltk_data]   Package wordnet is already up-to-date!\n",
      "[nltk_data] Downloading package punkt to\n",
      "[nltk_data]     C:\\Users\\shugupta\\AppData\\Roaming\\nltk_data...\n",
      "[nltk_data]   Package punkt is already up-to-date!\n",
      "[nltk_data] Downloading package averaged_perceptron_tagger to\n",
      "[nltk_data]     C:\\Users\\shugupta\\AppData\\Roaming\\nltk_data...\n",
      "[nltk_data]   Package averaged_perceptron_tagger is already up-to-\n",
      "[nltk_data]       date!\n"
     ]
    },
    {
     "data": {
      "text/plain": [
       "True"
      ]
     },
     "execution_count": 1,
     "metadata": {},
     "output_type": "execute_result"
    }
   ],
   "source": [
    "import nltk\n",
    "nltk.download('wordnet_ic')\n",
    "nltk.download('wordnet')\n",
    "nltk.download('punkt')\n",
    "nltk.download('averaged_perceptron_tagger')"
   ]
  },
  {
   "cell_type": "code",
   "execution_count": 2,
   "metadata": {
    "colab": {
     "base_uri": "https://localhost:8080/",
     "height": 73
    },
    "colab_type": "code",
    "id": "8UwfEH0Q-ALe",
    "outputId": "f0d5f4c1-bbf5-4517-cbff-d46d8cfbb8e0"
   },
   "outputs": [],
   "source": [
    "import math\n",
    "from nltk.corpus import wordnet\n",
    "import nltk\n",
    "from collections import Counter, defaultdict\n",
    "import sys\n",
    "import re\n",
    "import numpy as np\n",
    "from numpy.linalg import norm\n",
    "from sklearn.svm import SVR\n",
    "from sklearn.model_selection import GridSearchCV\n",
    "from sklearn.preprocessing import MinMaxScaler\n",
    "from scipy.stats import pearsonr\n",
    "from nltk.corpus import wordnet_ic\n",
    "brown_ic = wordnet_ic.ic('ic-brown.dat')\n",
    "brown_ic = wordnet_ic.ic('ic-brown.dat')\n",
    "semcor_ic = wordnet_ic.ic('ic-semcor.dat')\n",
    "from sklearn.metrics.scorer import make_scorer\n",
    "from sklearn.neural_network import MLPRegressor"
   ]
  },
  {
   "cell_type": "code",
   "execution_count": 3,
   "metadata": {
    "colab": {
     "base_uri": "https://localhost:8080/",
     "height": 127
    },
    "colab_type": "code",
    "id": "okI6BDtDEzp4",
    "outputId": "6f6f373b-a1a3-452f-a384-34743d2b2044"
   },
   "outputs": [
    {
     "data": {
      "text/plain": [
       "\"from google.colab import drive\\ndrive.mount('/content/drive')\""
      ]
     },
     "execution_count": 3,
     "metadata": {},
     "output_type": "execute_result"
    }
   ],
   "source": [
    "'''from google.colab import drive\n",
    "drive.mount('/content/drive')'''"
   ]
  },
  {
   "cell_type": "code",
   "execution_count": 4,
   "metadata": {
    "colab": {
     "base_uri": "https://localhost:8080/",
     "height": 53
    },
    "colab_type": "code",
    "id": "_kS0gbDZF8wh",
    "outputId": "14fcc6d3-53c8-42c7-ccbc-adaf2aae8996"
   },
   "outputs": [],
   "source": [
    "#cd 'drive/My Drive'"
   ]
  },
  {
   "cell_type": "markdown",
   "metadata": {
    "colab_type": "text",
    "id": "qCnUcn7F8MA5"
   },
   "source": [
    "# present directory Content"
   ]
  },
  {
   "cell_type": "code",
   "execution_count": 5,
   "metadata": {
    "colab": {
     "base_uri": "https://localhost:8080/",
     "height": 341
    },
    "colab_type": "code",
    "id": "eVodxCLXF_Ih",
    "outputId": "4c833625-ec74-45ab-99ac-95cf5816b15c"
   },
   "outputs": [],
   "source": [
    "#ls"
   ]
  },
  {
   "cell_type": "code",
   "execution_count": 5,
   "metadata": {
    "colab": {},
    "colab_type": "code",
    "id": "nWjwev8y-AL8"
   },
   "outputs": [],
   "source": [
    "import gensim\n",
    "from sklearn.manifold import TSNE\n",
    "import numpy as np\n",
    "import matplotlib.pyplot as plt\n",
    "import matplotlib.cm as cm\n",
    "import pandas\n",
    "#% matplotlib inline"
   ]
  },
  {
   "cell_type": "code",
   "execution_count": 6,
   "metadata": {
    "colab": {},
    "colab_type": "code",
    "id": "CFkreosu-AMC"
   },
   "outputs": [],
   "source": [
    "eng_vec_path = '../../GoogleNews-vectors-negative300.bin'"
   ]
  },
  {
   "cell_type": "code",
   "execution_count": 7,
   "metadata": {
    "colab": {
     "base_uri": "https://localhost:8080/",
     "height": 73
    },
    "colab_type": "code",
    "id": "wj5b2nTm-AMJ",
    "outputId": "799f93b4-b677-4fc4-8fa9-54c11e1ff8f6"
   },
   "outputs": [],
   "source": [
    "word_vec = gensim.models.KeyedVectors.load_word2vec_format(eng_vec_path, binary=True, unicode_errors='ignore')"
   ]
  },
  {
   "cell_type": "code",
   "execution_count": 8,
   "metadata": {
    "colab": {},
    "colab_type": "code",
    "id": "1bKLUOEU-AMQ"
   },
   "outputs": [],
   "source": [
    "\n",
    "class Sim:\n",
    "    def __init__(self, words, vectors):\n",
    "        self.word_to_idx = {a: b for b, a in\n",
    "                            enumerate(w.strip() for w in open(words))}\n",
    "        self.mat = np.loadtxt(vectors)\n",
    "\n",
    "    def bow_vec(self, b):\n",
    "        vec = np.zeros(self.mat.shape[1])\n",
    "        for k, v in b.items():\n",
    "            idx = self.word_to_idx.get(k, -1)\n",
    "            if idx >= 0:\n",
    "                vec += self.mat[idx] / (norm(self.mat[idx]) + 1e-8) * v\n",
    "        return vec\n",
    "\n",
    "    def calc(self, b1, b2):\n",
    "        v1 = self.bow_vec(b1)\n",
    "        v2 = self.bow_vec(b2)\n",
    "        return abs(v1.dot(v2) / (norm(v1) + 1e-8) / (norm(v2) + 1e-8))\n",
    "\n",
    "stopwords = set([\n",
    "\"i\", \"a\", \"about\", \"an\", \"are\", \"as\", \"at\", \"be\", \"by\", \"for\", \"from\",\n",
    "\"how\", \"in\", \"is\", \"it\", \"of\", \"on\", \"or\", \"that\", \"the\", \"this\", \"to\",\n",
    "\"was\", \"what\", \"when\", \"where\", \"who\", \"will\", \"with\", \"the\", \"'s\", \"did\",\n",
    "\"have\", \"has\", \"had\", \"were\", \"'ll\"\n",
    "])\n",
    "\n",
    "nyt_sim = Sim('../2017_takelab+cnn/nyt_words.txt', '../2017_takelab+cnn/nyt_word_vectors.txt')\n",
    "wiki_sim = Sim('../2017_takelab+cnn/wikipedia_words.txt', '../2017_takelab+cnn/wikipedia_word_vectors.txt')\n",
    "\n",
    "def fix_compounds(a, b):\n",
    "    sb = set(x.lower() for x in b)\n",
    "\n",
    "    a_fix = []\n",
    "    la = len(a)\n",
    "    i = 0\n",
    "    while i < la:\n",
    "        if i + 1 < la:\n",
    "            comb = a[i] + a[i + 1]\n",
    "            if comb.lower() in sb:\n",
    "                a_fix.append(a[i] + a[i + 1])\n",
    "                i += 2\n",
    "                continue\n",
    "        a_fix.append(a[i])\n",
    "        i += 1\n",
    "    return a_fix\n",
    "\n",
    "def load_data(path):\n",
    "    sentences_pos = []\n",
    "    r1 = re.compile(r'\\<([^ ]+)\\>')\n",
    "    r2 = re.compile(r'\\$US(\\d)')\n",
    "    for l in open(path, encoding= 'utf-8'):\n",
    "        #l = l.decode('utf-8')\n",
    "        l = l.replace(u'’', \"'\")\n",
    "        l = l.replace(u'``', '\"')\n",
    "        l = l.replace(u\"''\", '\"')\n",
    "        l = l.replace(u\"—\", '--')\n",
    "        l = l.replace(u\"–\", '--')\n",
    "        l = l.replace(u\"´\", \"'\")\n",
    "        l = l.replace(u\"-\", \" \")\n",
    "        l = l.replace(u\"/\", \" \")\n",
    "        l = r1.sub(r'\\1', l)\n",
    "        l = r2.sub(r'$\\1', l)\n",
    "        s = l.strip().split('\\t')\n",
    "        sa, sb = tuple(nltk.word_tokenize(s)\n",
    "                          for s in l.strip().split('\\t'))\n",
    "        '''sa, sb = ([x.encode('utf-8') for x in sa],\n",
    "                  [x.encode('utf-8') for x in sb])'''\n",
    "\n",
    "        for s in (sa, sb):\n",
    "            for i in range(len(s)):\n",
    "                if s[i] == \"n't\":\n",
    "                    s[i] = \"not\"\n",
    "                elif s[i] == \"'m\":\n",
    "                    s[i] = \"am\"\n",
    "        sa, sb = fix_compounds(sa, sb), fix_compounds(sb, sa)\n",
    "        sentences_pos.append((nltk.pos_tag(sa), nltk.pos_tag(sb)))\n",
    "    return sentences_pos\n",
    "\n",
    "def load_wweight_table(path):\n",
    "    lines = open(path, encoding= 'utf-8').readlines()\n",
    "    wweight = defaultdict(float)\n",
    "    if not len(lines):\n",
    "        return (wweight, 0.)\n",
    "    totfreq = int(lines[0])\n",
    "    for l in lines[1:]:\n",
    "        w, freq = l.split()\n",
    "        freq = float(freq)\n",
    "        if freq < 10:\n",
    "            continue\n",
    "        wweight[w] = math.log(totfreq / freq)\n",
    "\n",
    "    return wweight\n",
    "\n",
    "wweight = load_wweight_table('../2017_takelab+cnn/word-frequencies.txt')\n",
    "minwweight = min(wweight.values())\n",
    "\n",
    "def len_compress(l):\n",
    "    return math.log(1. + l)\n",
    "\n",
    "to_wordnet_tag = {\n",
    "        'NN':wordnet.NOUN,\n",
    "        'JJ':wordnet.ADJ,\n",
    "        'VB':wordnet.VERB,\n",
    "        'RB':wordnet.ADV\n",
    "    }\n",
    "\n",
    "word_matcher = re.compile('[^0-9,.(=)\\[\\]/_`]+$')\n",
    "def is_word(w):\n",
    "    return word_matcher.match(w) is not None\n",
    "\n",
    "def get_locase_words(spos):\n",
    "    return [x[0].lower() for x in spos\n",
    "            if is_word(x[0])]\n",
    "\n",
    "def make_ngrams(l, n):\n",
    "    rez = [l[i:(-n + i + 1)] for i in range(n - 1)]\n",
    "    rez.append(l[n - 1:])\n",
    "    return list(zip(*rez))\n",
    "\n",
    "def wvec_sim(la,lb):\n",
    "    veca=np.zeros(300)\n",
    "    vecb=np.zeros(300)\n",
    "    m=0\n",
    "    s=1\n",
    "    for i in la:\n",
    "        try:\n",
    "            veca+= word_vec[i]/norm(word_vec[i]+ 1e-8)\n",
    "        except KeyError:\n",
    "            veca+= np.random.normal(m,s,300)/norm(np.random.normal(m,s,300) + 1e-8)\n",
    "    for i in lb:\n",
    "        try:\n",
    "            vecb+= word_vec[i]/norm(word_vec[i] + 1e-8)\n",
    "        except:\n",
    "            vecb+= np.random.normal(m,s,300)/norm(np.random.normal(m,s,300) + 1e-8)\n",
    "        \n",
    "    return abs(veca.dot(vecb) / (norm(veca) + 1e-8 ) / (norm(vecb) + 1e-8))\n",
    "\n",
    "def weighted_wvec_sim(lca, lcb):\n",
    "    wa = Counter(lca)\n",
    "    wb = Counter(lcb)\n",
    "    wa = {x: wweight[x] * wa[x] for x in wa}\n",
    "    wb = {x: wweight[x] * wb[x] for x in wb}\n",
    "    \n",
    "    veca=np.zeros(300)\n",
    "    vecb=np.zeros(300)\n",
    "    m=0\n",
    "    s=1\n",
    "    \n",
    "    for k,v in wa.items():\n",
    "        #print(k,v)\n",
    "        try:\n",
    "             veca+= word_vec[k]/norm(word_vec[k]+ 1e-8)*v\n",
    "        except KeyError:\n",
    "            print(k)\n",
    "            veca+= np.random.normal(m,s,300)/norm(np.random.normal(m,s,300) + 1e-8)*v\n",
    "\n",
    "    for k,v in wb.items():\n",
    "        #print(k,v)\n",
    "        try:\n",
    "             vecb+= word_vec[k]/norm(word_vec[k]+ 1e-8)*v\n",
    "        except KeyError:\n",
    "            print(k)\n",
    "            vecb+= np.random.normal(m,s,300)/norm(np.random.normal(m,s,300) + 1e-8)*v\n",
    "        \n",
    "    return  abs(veca.dot(vecb) / (norm(veca) + 1e-8 ) / (norm(vecb) + 1e-8))\n",
    "\n",
    "def dist_sim(sim, la, lb):\n",
    "    wa = Counter(la)\n",
    "    wb = Counter(lb)\n",
    "    d1 = {x:1 for x in wa}\n",
    "    d2 = {x:1 for x in wb}\n",
    "    return sim.calc(d1, d2)\n",
    "\n",
    "def weighted_dist_sim(sim, lca, lcb):\n",
    "    wa = Counter(lca)\n",
    "    wb = Counter(lcb)\n",
    "    wa = {x: wweight[x] * wa[x] for x in wa}\n",
    "    wb = {x: wweight[x] * wb[x] for x in wb}\n",
    "    return sim.calc(wa, wb)\n",
    "\n",
    "def weighted_word_match(lca, lcb):\n",
    "    wa = Counter(lca)\n",
    "    wb = Counter(lcb)\n",
    "    wsuma = sum(wweight[w] * wa[w] for w in wa)\n",
    "    wsumb = sum(wweight[w] * wb[w] for w in wb)\n",
    "    wsum = 0.\n",
    "\n",
    "    for w in wa:\n",
    "        wd = min(wa[w], wb[w])\n",
    "        wsum += wweight[w] * wd\n",
    "    p = 0.\n",
    "    r = 0.\n",
    "    if wsuma > 0 and wsum > 0:\n",
    "        p = wsum / wsuma\n",
    "    if wsumb > 0 and wsum > 0:\n",
    "        r = wsum / wsumb\n",
    "    f1 = 2 * p * r / (p + r) if p + r > 0 else 0.\n",
    "    return f1\n",
    "\n",
    "wpathsimcache = {}\n",
    "def wpathsim(a, b):\n",
    "    \n",
    "    if a > b:\n",
    "        b, a = a, b\n",
    "    p = (a, b)\n",
    "    if p in wpathsimcache:\n",
    "        return wpathsimcache[p]\n",
    "    if a == b:\n",
    "        wpathsimcache[p] = 1.\n",
    "        return 1.\n",
    "    sa = wordnet.synsets(a)\n",
    "    sb = wordnet.synsets(b)\n",
    "    '''print(a)\n",
    "    print(sa)\n",
    "    print(b)\n",
    "    print(sb)'''\n",
    "    mx = max([wa.path_similarity(wb)\n",
    "              for wa in sa\n",
    "              for wb in sb if wa.path_similarity(wb) is not None ] + [0.]  )\n",
    "    wpathsimcache[p] = mx\n",
    "    return mx\n",
    "\n",
    "wpathsimcache_jc = {}\n",
    "def wpathsim_jc(a, b):\n",
    "    if a > b:\n",
    "        b, a = a, b\n",
    "    p = (a, b)\n",
    "    if p in wpathsimcache_jc:\n",
    "        return wpathsimcache_jc[p]\n",
    "    if a == b:\n",
    "        wpathsimcache_jc[p] = 1.\n",
    "        return 1.\n",
    "    sa = wordnet.synsets(a)\n",
    "    sb = wordnet.synsets(b)\n",
    "    '''print(a)\n",
    "    print(sa)\n",
    "    print(b)\n",
    "    print(sb)'''\n",
    "    #print(a, b)\n",
    "    mx_list=[]\n",
    "    for wa in sa:\n",
    "        for wb in sb:\n",
    "            if (wa.pos()=='s' or wb.pos()=='s'):\n",
    "                continue\n",
    "            if (wa.pos()=='a' or wb.pos()=='a'):\n",
    "                continue\n",
    "            \n",
    "            if (wa.pos()=='r' or wb.pos()=='r'):\n",
    "                continue\n",
    "            \n",
    "            if (wa.pos() == wb.pos()):\n",
    "                t=wa.jcn_similarity(wb,semcor_ic)\n",
    "                if(t<0.001):\n",
    "                    t1=0.001\n",
    "                    mx_list.append(t1)\n",
    "                elif (t>1):\n",
    "                    t1=1\n",
    "                    mx_list.append(t1)\n",
    "                else:\n",
    "                    mx_list.append(wa.jcn_similarity(wb,semcor_ic))\n",
    "    mx_list=mx_list +[0.0]\n",
    "    mx= max(mx_list)\n",
    "    wpathsimcache_jc[p] = mx\n",
    "    return mx\n",
    "\n",
    "wpathsimcache_lin = {}\n",
    "def wpathsim_lin(a, b):\n",
    "    if a > b:\n",
    "        b, a = a, b\n",
    "    p = (a, b)\n",
    "    if p in wpathsimcache_lin:\n",
    "        return wpathsimcache_lin[p]\n",
    "    if a == b:\n",
    "        wpathsimcache_lin[p] = 1.\n",
    "        return 1.\n",
    "    sa = wordnet.synsets(a)\n",
    "    sb = wordnet.synsets(b)\n",
    "    '''print(a)\n",
    "    print(sa)\n",
    "    print(b)\n",
    "    print(sb)'''\n",
    "    #print(a, b)\n",
    "    mx_list=[]\n",
    "    for wa in sa:\n",
    "        for wb in sb:\n",
    "            if (wa.pos()=='s' or wb.pos()=='s'):\n",
    "                continue\n",
    "            if (wa.pos()=='a' or wb.pos()=='a'):\n",
    "                continue\n",
    "            \n",
    "            if (wa.pos()=='r' or wb.pos()=='r'):\n",
    "                continue\n",
    "            \n",
    "            if (wa.pos() == wb.pos()):\n",
    "                t=wa.jcn_similarity(wb,semcor_ic)\n",
    "                if(t<0.001):\n",
    "                    t1=0.001\n",
    "                    mx_list.append(t1)\n",
    "                elif (t>1):\n",
    "                    t1=1\n",
    "                    mx_list.append(t1)\n",
    "                else:\n",
    "                    mx_list.append(wa.lin_similarity(wb,semcor_ic))\n",
    "    mx_list=mx_list +[0.0]\n",
    "    mx= max(mx_list)\n",
    "    wpathsimcache_lin[p] = mx\n",
    "    return mx\n",
    "\n",
    "def calc_wn_prec(lema, lemb,val):\n",
    "    rez = 0.\n",
    "    for a in lema:\n",
    "        ms = 0.\n",
    "        for b in lemb:\n",
    "            if(val==0):\n",
    "                ms = max(ms, wpathsim(a, b))\n",
    "            elif(val==1):\n",
    "                ms = max(ms, wpathsim_jc(a, b))\n",
    "            else:\n",
    "                ms = max(ms, wpathsim_lin(a, b))\n",
    "                \n",
    "        rez += ms\n",
    "    return rez / len(lema)\n",
    "\n",
    "def wn_sim_match(lema, lemb,val):\n",
    "    f1 = 1.\n",
    "    p = 0.\n",
    "    r = 0.\n",
    "    if len(lema) > 0 and len(lemb) > 0:\n",
    "        p = calc_wn_prec(lema, lemb,val)\n",
    "        r = calc_wn_prec(lemb, lema,val)\n",
    "        f1 = 2. * p * r / (p + r) if p + r > 0 else 0.\n",
    "    return f1\n",
    "\n",
    "def ngram_match(sa, sb, n):\n",
    "    nga = make_ngrams(sa, n)\n",
    "    ngb = make_ngrams(sb, n)\n",
    "    matches = 0\n",
    "    c1 = Counter(nga)\n",
    "    for ng in ngb:\n",
    "        if c1[ng] > 0:\n",
    "            c1[ng] -= 1\n",
    "            matches += 1\n",
    "    p = 0.\n",
    "    r = 0.\n",
    "    f1 = 1.\n",
    "    if len(nga) > 0 and len(ngb) > 0:\n",
    "        p = matches / float(len(nga))\n",
    "        r = matches / float(len(ngb))\n",
    "        f1 = 2 * p * r / (p + r) if p + r > 0 else 0.\n",
    "    return f1\n",
    "\n",
    "def get_lemmatized_words(sa):\n",
    "    rez = []\n",
    "    for w, wpos in sa:\n",
    "        w = w.lower()\n",
    "        if w in stopwords or not is_word(w):\n",
    "            continue\n",
    "        wtag = to_wordnet_tag.get(wpos[:2])\n",
    "        if wtag is None:\n",
    "            wlem = w\n",
    "        else:\n",
    "            wlem = wordnet.morphy(w, wtag) or w\n",
    "        rez.append(wlem)\n",
    "    return rez\n",
    "\n",
    "def is_stock_tick(w):\n",
    "    return w[0] == '.' and len(w) > 1 and w[1:].isupper()\n",
    "\n",
    "def stocks_matches(sa, sb):\n",
    "    ca = set(x[0] for x in sa if is_stock_tick(x[0]))\n",
    "    cb = set(x[0] for x in sb if is_stock_tick(x[0]))\n",
    "    isect = len(ca.intersection(cb))\n",
    "    la = len(ca)\n",
    "    lb = len(cb)\n",
    "\n",
    "    f = 1.\n",
    "    if la > 0 and lb > 0:\n",
    "        if isect > 0:\n",
    "            p = float(isect) / la\n",
    "            r = float(isect) / lb\n",
    "            f = 2 * p * r / (p + r)\n",
    "        else:\n",
    "            f = 0.\n",
    "    return (len_compress(la + lb), f)\n",
    "\n",
    "def case_matches(sa, sb):\n",
    "    ca = set(x[0] for x in sa[1:] if x[0][0].isupper()\n",
    "            and x[0][-1] != '.')\n",
    "    cb = set(x[0] for x in sb[1:] if x[0][0].isupper()\n",
    "            and x[0][-1] != '.')\n",
    "    la = len(ca)\n",
    "    lb = len(cb)\n",
    "    isect = len(ca.intersection(cb))\n",
    "\n",
    "    f = 1.\n",
    "    if la > 0 and lb > 0:\n",
    "        if isect > 0:\n",
    "            p = float(isect) / la\n",
    "            r = float(isect) / lb\n",
    "            f = 2 * p * r / (p + r)\n",
    "        else:\n",
    "            f = 0.\n",
    "    return (len_compress(la + lb), f)\n",
    "\n",
    "risnum = re.compile(r'^[0-9,./-]+$')\n",
    "rhasdigit = re.compile(r'[0-9]')\n",
    "\n",
    "def match_number(xa, xb):\n",
    "    if xa == xb:\n",
    "        return True\n",
    "    xa = xa.replace(',', '')\n",
    "    xb = xb.replace(',', '')\n",
    "\n",
    "    try:\n",
    "        va = int(float(xa))\n",
    "        vb = int(float(xb))\n",
    "        if (va == 0 or vb == 0) and va != vb:\n",
    "            return False\n",
    "        fxa = float(xa)\n",
    "        fxb = float(xb)\n",
    "        if abs(fxa - fxb) > 1:\n",
    "            return False\n",
    "        diga = xa.find('.')\n",
    "        digb = xb.find('.')\n",
    "        diga = 0 if diga == -1 else len(xa) - diga - 1\n",
    "        digb = 0 if digb == -1 else len(xb) - digb - 1\n",
    "        if diga > 0 and digb > 0 and va != vb:\n",
    "            return False\n",
    "        dmin = min(diga, digb)\n",
    "        if dmin == 0:\n",
    "            if abs(round(fxa, 0) - round(fxb, 0)) < 1e-5:\n",
    "                return True\n",
    "            return va == vb\n",
    "        return abs(round(fxa, dmin) - round(fxb, dmin)) < 1e-5\n",
    "    except:\n",
    "        pass\n",
    "\n",
    "    return False\n",
    "\n",
    "def number_features(sa, sb):\n",
    "    numa = set(x[0] for x in sa if risnum.match(x[0]) and\n",
    "            rhasdigit.match(x[0]))\n",
    "    numb = set(x[0] for x in sb if risnum.match(x[0]) and\n",
    "            rhasdigit.match(x[0]))\n",
    "    isect = 0\n",
    "    for na in numa:\n",
    "        if na in numb:\n",
    "            isect += 1\n",
    "            continue\n",
    "        for nb in numb:\n",
    "            if match_number(na, nb):\n",
    "                isect += 1\n",
    "                break\n",
    "\n",
    "    la, lb = len(numa), len(numb)\n",
    "\n",
    "    f = 1.\n",
    "    subset = 0.\n",
    "    if la + lb > 0:\n",
    "        if isect == la or isect == lb:\n",
    "            subset = 1.\n",
    "        if isect > 0:\n",
    "            p = float(isect) / la\n",
    "            r = float(isect) / lb\n",
    "            f = 2. * p * r / (p + r)\n",
    "        else:\n",
    "            f = 0.\n",
    "    return (len_compress(la + lb), f, subset)\n",
    "\n",
    "def relative_len_difference(lca, lcb):\n",
    "    la, lb = len(lca), len(lcb)\n",
    "    return abs(la - lb) / float(max(la, lb) + 1e-5)\n",
    "\n",
    "def relative_ic_difference(lca, lcb):\n",
    "    #wa = sum(wweight[x] for x in lca)\n",
    "    #wb = sum(wweight[x] for x in lcb)\n",
    "    wa = sum(max(0., wweight[x] - minwweight) for x in lca)\n",
    "    wb = sum(max(0., wweight[x] - minwweight) for x in lcb)\n",
    "    return abs(wa - wb) / (max(wa, wb) + 1e-5)\n",
    "\n",
    "def my_custom_function(y_true, y_predict):\n",
    "    corr,_ = pearsonr(y_true, y_predict)\n",
    "    return corr\n",
    "\n",
    "    \n",
    " #   gs = GridSearchCV(clf, param_grid={'kernel': [ 'rbf'],'C': [1,2,5,10,20, 50,100,200,500,1000],'gamma':[2,1,.5,.2,.1,.05,.02,.01,.005,.002]},scoring='roc_auc')\n",
    "    \n",
    "    \n",
    "    \n"
   ]
  },
  {
   "cell_type": "markdown",
   "metadata": {
    "colab_type": "text",
    "id": "hQ_guUmm-AMZ"
   },
   "source": [
    "# Incorporating CNN"
   ]
  },
  {
   "cell_type": "code",
   "execution_count": 9,
   "metadata": {
    "colab": {},
    "colab_type": "code",
    "id": "MJ7PwTXp-AMb"
   },
   "outputs": [],
   "source": [
    "c = dict()\n",
    "c['num_runs']   = 3\n",
    "c['num_epochs'] = 64\n",
    "c['num_batchs'] = 2\n",
    "c['batch_size'] = 3000\n",
    "c['wordvectdim']  = 300\n",
    "c['sentencepad']  = 60\n",
    "c['num_classes']  = 6\n",
    "c['cnnfilters']     = {1: 1800}\n",
    "c['cnninitial']     = 'he_uniform'\n",
    "c['cnnactivate']    = 'relu'\n",
    "c['densedimension'] = list([1800])\n",
    "c['denseinitial']   = 'he_uniform'\n",
    "c['denseactivate']  = 'tanh'\n",
    "c['optimizer']  = 'adam'"
   ]
  },
  {
   "cell_type": "markdown",
   "metadata": {
    "colab_type": "text",
    "id": "m7M4zoUq-zQ5"
   },
   "source": [
    "## Defining CNN"
   ]
  },
  {
   "cell_type": "code",
   "execution_count": 10,
   "metadata": {
    "colab": {},
    "colab_type": "code",
    "id": "Zy3Raybu92Gw"
   },
   "outputs": [],
   "source": [
    "import torch\n",
    "import torch.nn as nn\n",
    "from nltk.tokenize import word_tokenize\n",
    "import random,copy,string\n",
    "from numpy import linalg\n",
    "from scipy.stats import pearsonr"
   ]
  },
  {
   "cell_type": "code",
   "execution_count": 11,
   "metadata": {
    "colab": {},
    "colab_type": "code",
    "id": "_iK8lfly9784"
   },
   "outputs": [],
   "source": [
    "class CNN_Model(nn.Module):\n",
    "  def __init__(self,nh):\n",
    "    super(CNN_Model, self).__init__()\n",
    "    self.cnn= nn.Sequential(nn.Conv1d(300,1800,1),              #(bs,300,60) -> (bs, 1800, 60)\n",
    "                            nn.LeakyReLU(0.01),\n",
    "                            nn.MaxPool1d(kernel_size=60))       #(bs,1800,60)-> (bs, 1800, 1)\n",
    "\n",
    "    self.Linear= nn.Sequential(nn.Linear(3600,nh),            #(bs, 3600)  -> (bs, 1800 )\n",
    "                               nn.LeakyReLU(0.01),\n",
    "                               nn.Linear(nh,6),               #(bs,1800)   -> (bs,6)\n",
    "                               nn.Softmax(dim=1))\n",
    "                            \n",
    "    \n",
    "\n",
    "  def forward(self,input1, input2):\n",
    "    input1= self.cnn(input1)\n",
    "    input2= self.cnn(input2)\n",
    "    #print(\"input1=\",input1.shape)\n",
    "    #print(\"input2=\",input2.shape)\n",
    "    input1= torch.flatten(input1,1)\n",
    "    input2= torch.flatten(input2,1)\n",
    "    #print(\"input1=\",input1.shape)\n",
    "    #print(\"input2=\",input2.shape)\n",
    "    absdiff= abs(input1 - input2)\n",
    "    mulDifference= input1 * input2\n",
    "    concatenate = torch.cat((absdiff,mulDifference),1)\n",
    "    #print(concatenate.shape)\n",
    "    output= self.Linear(concatenate)\n",
    "    #print(output.shape)\n",
    "    return (output)"
   ]
  },
  {
   "cell_type": "markdown",
   "metadata": {
    "colab_type": "text",
    "id": "wiPtFQegBPC1"
   },
   "source": [
    "## loading embeddings"
   ]
  },
  {
   "cell_type": "code",
   "execution_count": 12,
   "metadata": {
    "colab": {},
    "colab_type": "code",
    "id": "TLXpKk4E-fjY"
   },
   "outputs": [],
   "source": [
    "import fasttext"
   ]
  },
  {
   "cell_type": "code",
   "execution_count": 13,
   "metadata": {},
   "outputs": [
    {
     "name": "stderr",
     "output_type": "stream",
     "text": [
      "Warning : `load_model` does not return WordVectorModel or SupervisedModel any more, but a `FastText` object which is very similar.\n"
     ]
    }
   ],
   "source": [
    "ft = fasttext.load_model('../../cc.en.300.bin')"
   ]
  },
  {
   "cell_type": "markdown",
   "metadata": {
    "colab_type": "text",
    "id": "tvD2gYHSBjvF"
   },
   "source": [
    "## Defining Load Data"
   ]
  },
  {
   "cell_type": "code",
   "execution_count": 14,
   "metadata": {
    "colab": {},
    "colab_type": "code",
    "id": "m-3T_GQiBiyq"
   },
   "outputs": [],
   "source": [
    "def matrixize(sentencelist, sentencepad):\n",
    "  padding= np.zeros(300)\n",
    "  matrix= np.zeros((len(sentencelist),sentencepad,300 ))\n",
    "  m=0\n",
    "  s=1\n",
    "\n",
    "  for i in range(len(sentencelist)):\n",
    "    for j in range(len(sentencelist[i])):\n",
    "      try:\n",
    "        matrix[i][j]= ft.get_word_vector(sentencelist[i][j])\n",
    "      except:\n",
    "        print(sentencelist[i][j])\n",
    "        matrix[i][j]= np.random.normal(m,s,300)/norm(np.random.normal(m,s,300) + 1e-8)\n",
    "\n",
    "  return matrix"
   ]
  },
  {
   "cell_type": "code",
   "execution_count": 15,
   "metadata": {
    "colab": {},
    "colab_type": "code",
    "id": "C3kyXgqbBxsj"
   },
   "outputs": [],
   "source": [
    "def _load_data(filename):\n",
    "        s0,s1,labels = [],[],[]\n",
    "        lines=open(filename,'r',encoding='utf-8').read().splitlines()\n",
    "        for line in lines:\n",
    "            _,_,_,_, label, s0x, s1x = line.rstrip().split('\\t')[:7]\n",
    "            labels.append(float(label))\n",
    "            s0.append([word.lower() for word in word_tokenize(s0x) if word not in string.punctuation])\n",
    "            s1.append([word.lower() for word in word_tokenize(s1x) if word not in string.punctuation])\n",
    "\n",
    "        m0 = matrixize(s0, c['sentencepad'])\n",
    "        m1 = matrixize(s1, c['sentencepad'])\n",
    "        classes = np.zeros((len(labels),c['num_classes']))\n",
    "        for i, label in enumerate(labels): # making probability distribution of classes\n",
    "            if np.floor(label) + 1 < c['num_classes']:\n",
    "                classes[i, int(np.floor(label)) + 1] = label - np.floor(label)\n",
    "            classes[i, int(np.floor(label))] = np.floor(label) - label + 1\n",
    "            \n",
    "        return {'labels': labels, 's0': s0, 's1': s1, 'classes': classes, 'm0': m0, 'm1': m1}\n"
   ]
  },
  {
   "cell_type": "markdown",
   "metadata": {
    "colab_type": "text",
    "id": "uZaN-cmfCOse"
   },
   "source": [
    "## Sampling Batch"
   ]
  },
  {
   "cell_type": "code",
   "execution_count": 16,
   "metadata": {
    "colab": {},
    "colab_type": "code",
    "id": "70Mf-YCDCSl4"
   },
   "outputs": [],
   "source": [
    "def _sample_pairs(data,batch_size):\n",
    "  datacopy={}\n",
    "  for i in data.keys():\n",
    "    datacopy[i]= []\n",
    "  for i in range(batch_size):\n",
    "    index = np.random.randint(len(data['labels']))\n",
    "    #print(index)\n",
    "    for key,value in data.items():\n",
    "      datacopy[key].append(value[index])\n",
    "  datacopy['classes']= torch.tensor(datacopy['classes'])\n",
    "  datacopy['m0']= torch.tensor(datacopy['m0'])\n",
    "  datacopy['m1']= torch.tensor(datacopy['m1'])\n",
    "  return datacopy"
   ]
  },
  {
   "cell_type": "markdown",
   "metadata": {
    "colab_type": "text",
    "id": "8nnwSpFC_Az3"
   },
   "source": [
    "## Evaluation"
   ]
  },
  {
   "cell_type": "code",
   "execution_count": 17,
   "metadata": {
    "colab": {},
    "colab_type": "code",
    "id": "r_MrAPMI-KPd"
   },
   "outputs": [],
   "source": [
    "def eval_setup(net,batch_size,data, device = 'cpu'):\n",
    "  \n",
    "  net.load_state_dict(torch.load('fasttext_cross_adam_model.pt'))\n",
    "  net.eval().to(device )\n",
    "  testload= _load_data(data)\n",
    "  test_n_batch= int(len(testload['labels'])/batch_size)\n",
    "  #print(len(testload['labels']))\n",
    "  test_loss_arr = np.zeros(test_n_batch+ 1)\n",
    "\n",
    "\n",
    "  data= _sample_pairs(testload,batch_size)\n",
    "  input1= (torch.transpose(data['m0'],1,2)).to(device,dtype= torch.float32)\n",
    "  input2= (torch.transpose(data['m1'],1,2)).to(device,dtype= torch.float32)\n",
    "  pred_output= (net(input1,input2)).to('cpu')\n",
    "  pred= pred_output.detach().numpy()\n",
    "  prediction = np.dot(np.array(pred),np.arange(c['num_classes']))\n",
    "  print('pred_shape',prediction.shape)\n",
    "  goldlabels = data['labels']\n",
    "  result=round((pearsonr(prediction, goldlabels)[0]),4)\n",
    "  print(\"result\",result)\n",
    "\n",
    "  return (prediction,result)\n"
   ]
  },
  {
   "cell_type": "markdown",
   "metadata": {
    "colab_type": "text",
    "id": "Fs5pQpe1Cpwm"
   },
   "source": [
    "## Loading And Evaluating Data"
   ]
  },
  {
   "cell_type": "code",
   "execution_count": 18,
   "metadata": {
    "colab": {},
    "colab_type": "code",
    "id": "eCaPK9MaGMFK"
   },
   "outputs": [],
   "source": [
    "net= CNN_Model(1600)"
   ]
  },
  {
   "cell_type": "code",
   "execution_count": 19,
   "metadata": {
    "colab": {
     "base_uri": "https://localhost:8080/",
     "height": 342
    },
    "colab_type": "code",
    "id": "Ml7V5QyID6Ax",
    "outputId": "6c09d0fa-54bd-447b-ceea-bd673fa7d6bd"
   },
   "outputs": [
    {
     "name": "stdout",
     "output_type": "stream",
     "text": [
      "pred_shape (5749,)\n",
      "result 0.9294\n"
     ]
    }
   ],
   "source": [
    "train_pred= eval_setup(net,batch_size = 5749,data='../sts-train.csv', device ='cpu')"
   ]
  },
  {
   "cell_type": "code",
   "execution_count": 21,
   "metadata": {
    "colab": {
     "base_uri": "https://localhost:8080/",
     "height": 342
    },
    "colab_type": "code",
    "id": "4e98t3fvFpD_",
    "outputId": "d1a1eb7b-07f3-4fb8-da0e-70ac7cb55e82"
   },
   "outputs": [
    {
     "name": "stdout",
     "output_type": "stream",
     "text": [
      "pred_shape (1379,)\n",
      "result 0.7397\n"
     ]
    }
   ],
   "source": [
    "test_pred = eval_setup(net,batch_size = 1379, data='../sts-test.csv',device = 'cpu')"
   ]
  },
  {
   "cell_type": "markdown",
   "metadata": {
    "colab_type": "text",
    "id": "2BpwX1WuKWGv"
   },
   "source": [
    "# Reshaping scores"
   ]
  },
  {
   "cell_type": "code",
   "execution_count": 22,
   "metadata": {
    "colab": {},
    "colab_type": "code",
    "id": "4RLJ0TUaJJV_"
   },
   "outputs": [],
   "source": [
    "train_cnn=train_pred[0].reshape(5749,1)"
   ]
  },
  {
   "cell_type": "code",
   "execution_count": 23,
   "metadata": {
    "colab": {},
    "colab_type": "code",
    "id": "9-1MmIvVL2Mo"
   },
   "outputs": [],
   "source": [
    "test_cnn= test_pred[0].reshape(1379,1)\n"
   ]
  },
  {
   "cell_type": "markdown",
   "metadata": {
    "colab_type": "text",
    "id": "nXun5j-eMn5C"
   },
   "source": [
    "# Post processing of scores"
   ]
  },
  {
   "cell_type": "code",
   "execution_count": 24,
   "metadata": {
    "colab": {},
    "colab_type": "code",
    "id": "nnUq0PcU-ANk"
   },
   "outputs": [],
   "source": [
    "def post_process(path):\n",
    "    import sys\n",
    "\n",
    "\n",
    "    orig = []\n",
    "    for l in open('../2017_takelab+cnn/test/sts_test.txt',encoding='utf-8'):\n",
    "        orig.append([x.strip() for x in l.lower().split(\"\\t\")])\n",
    "\n",
    "    scores = list(map(float, open(path).readlines()))\n",
    "\n",
    "    if len(orig) != len(scores):\n",
    "        print (sys.stderr, \"Error: inputs should have the same number of lines\")\n",
    "        exit(1)\n",
    "    processed=[]\n",
    "    f = open('processed_'+path, 'w')\n",
    "    for i, s in enumerate(scores):\n",
    "        if orig[0] == orig[1]:\n",
    "            s = 5.\n",
    "        if s > 5:\n",
    "            s = 5.\n",
    "        if s < 0:\n",
    "            s = 0.\n",
    "        processed.append(s)\n",
    "        #print (s)\n",
    "        f.write(\"%s\\n\" % s)\n",
    "    f.close()\n",
    "    return processed"
   ]
  },
  {
   "cell_type": "markdown",
   "metadata": {
    "colab_type": "text",
    "id": "LTepr7Bc-ANp"
   },
   "source": [
    "# takelab_score"
   ]
  },
  {
   "cell_type": "code",
   "execution_count": 25,
   "metadata": {
    "colab": {},
    "colab_type": "code",
    "id": "cKiIYR5z-ANr"
   },
   "outputs": [],
   "source": [
    "def calc_features(sa, sb):\n",
    "    olca = get_locase_words(sa)\n",
    "    olcb = get_locase_words(sb)\n",
    "    lca = [w for w in olca if w not in stopwords]\n",
    "    lcb = [w for w in olcb if w not in stopwords]\n",
    "    lema = get_lemmatized_words(sa)\n",
    "    lemb = get_lemmatized_words(sb)\n",
    "   \n",
    "    f = []\n",
    "    f += number_features(sa, sb)\n",
    "    f += case_matches(sa, sb)\n",
    "    f += stocks_matches(sa, sb)\n",
    "   \n",
    "    f += [\n",
    "            ngram_match(lca, lcb, 1),\n",
    "            ngram_match(lca, lcb, 2),\n",
    "            ngram_match(lca, lcb, 3),\n",
    "            ngram_match(lema, lemb, 1),\n",
    "            ngram_match(lema, lemb, 2),\n",
    "            ngram_match(lema, lemb, 3),\n",
    "            wn_sim_match(lema, lemb,0),\n",
    "            weighted_word_match(olca, olcb),\n",
    "            weighted_word_match(lema, lemb),\n",
    "            #wvec_sim(lema,lemb),\n",
    "            #weighted_wvec_sim(lema,lemb)\n",
    "            dist_sim(nyt_sim, lema, lemb),\n",
    "            #dist_sim(wiki_sim, lema, lemb),\n",
    "            weighted_dist_sim(nyt_sim, lema, lemb),\n",
    "            weighted_dist_sim(wiki_sim, lema, lemb),\n",
    "            relative_len_difference(lca, lcb),\n",
    "            relative_ic_difference(olca, olcb)\n",
    "        ]\n",
    "\n",
    "    return f\n",
    "\n",
    "\n",
    "\n",
    "if __name__ == \"__main__\":\n",
    "    \n",
    "   \n",
    "\n",
    "    '''scores = None\n",
    "    scores = [float(x) for x in open('train/STS.gs.MSRpar.txt','r')]'''\n",
    " \n",
    "    data=[]\n",
    "    c=0\n",
    "    for idx, sp in enumerate(load_data('../2017_takelab+cnn/train/sts_train.txt')):\n",
    "        #y = 0. if scores is None else scores[idx]\n",
    "        data+=[(calc_features(*sp))]\n",
    "        \n",
    "    data=np.array(data)\n",
    "    data= np.append(data, train_cnn, axis=1)\n",
    "\n",
    "    scaler = MinMaxScaler()\n",
    "    scaler.fit(data)\n",
    "    data= scaler.transform(data)\n",
    "\n",
    "\n",
    "    f= open('../2017_takelab+cnn/train/sts_train_scores.txt', encoding='utf-8')\n",
    "    label= f.readlines()\n",
    "    label=[float(w.strip()) for w in label]\n",
    "    label=np.array(label).reshape(len(label),)\n",
    "    \n",
    "    my_scorer = make_scorer(my_custom_function, greater_is_better=True)\n",
    "    \n",
    "   \n",
    "    "
   ]
  },
  {
   "cell_type": "code",
   "execution_count": 26,
   "metadata": {
    "colab": {},
    "colab_type": "code",
    "id": "5wLPk-9_qLDS"
   },
   "outputs": [
    {
     "data": {
      "text/plain": [
       "(5749, 22)"
      ]
     },
     "execution_count": 26,
     "metadata": {},
     "output_type": "execute_result"
    }
   ],
   "source": [
    "data.shape"
   ]
  },
  {
   "cell_type": "code",
   "execution_count": 27,
   "metadata": {
    "colab": {},
    "colab_type": "code",
    "id": "UZ8xG1cJpWEN"
   },
   "outputs": [],
   "source": [
    "gs = GridSearchCV(SVR(kernel='rbf','poly'), param_grid={'C': [1,2,5,10,20, 50,100,200,500,1000],\n",
    "                                                 'gamma':[2,1,.5,.2,.1,.05,.02,.01,.005,.002]},scoring=my_scorer,\n",
    "                                                  cv=10,n_jobs=-1)\n",
    "gs.fit(data,label)\n",
    "m=gs.best_estimator_\n",
    "model=m.fit(data,label)\n",
    "    \n",
    "    \n",
    "    "
   ]
  },
  {
   "cell_type": "code",
   "execution_count": 28,
   "metadata": {
    "colab": {},
    "colab_type": "code",
    "id": "LOLW8M0Fx2mu"
   },
   "outputs": [
    {
     "name": "stdout",
     "output_type": "stream",
     "text": [
      "{'activation': 'relu', 'alpha': 0.01, 'batch_size': 256, 'hidden_layer_sizes': 100, 'learning_rate': 'adaptive', 'learning_rate_init': 0.001, 'max_iter': 1000, 'solver': 'adam', 'warm_start': True}\n"
     ]
    }
   ],
   "source": [
    "print(gs.best_params_)"
   ]
  },
  {
   "cell_type": "code",
   "execution_count": 29,
   "metadata": {
    "colab": {},
    "colab_type": "code",
    "id": "46reO7QUp0iB"
   },
   "outputs": [
    {
     "name": "stdout",
     "output_type": "stream",
     "text": [
      "(1379, 22)\n"
     ]
    }
   ],
   "source": [
    "test_data=[]\n",
    "for idx, sp in enumerate(load_data('../2017_takelab+cnn/test/sts_test.txt')):\n",
    "    #y = 0. if scores is None else scores[idx]\n",
    "    test_data+=[(calc_features(*sp))]\n",
    "    \n",
    "test_data=np.array(test_data)\n",
    "test_data=np.append(test_data,test_cnn,axis=1)\n",
    "\n",
    "test_data= scaler.transform(test_data)\n",
    "\n",
    "print(test_data.shape)\n",
    "\n",
    "f= open('../2017_takelab+cnn/test/sts_test_scores.txt')\n",
    "test_label= f.readlines()\n",
    "test_label=[float(w.strip()) for w in test_label]\n",
    "test_label=np.array(test_label).reshape(len(test_label),)\n",
    "\n",
    "'''test_data=[]\n",
    "for idx, sp in enumerate(load_data('trial1/STS.input.txt')):\n",
    "    y = 0. if scores is None else scores[idx]\n",
    "    test_data+=[(calc_features(*sp))]\n",
    "    \n",
    "test_data=np.array(test_data)\n",
    "\n",
    "f= open('trial1/STS.gs.txt')\n",
    "test_label= f.readlines()\n",
    "test_label=[float(w.strip()) for w in test_label]\n",
    "test_label=np.array(test_label).reshape(len(test_label),)'''\n",
    "\n",
    "predictions= model.predict(test_data)"
   ]
  },
  {
   "cell_type": "code",
   "execution_count": 30,
   "metadata": {
    "colab": {
     "base_uri": "https://localhost:8080/",
     "height": 35
    },
    "colab_type": "code",
    "id": "VQN1GHVW-AN7",
    "outputId": "e7a486b2-076b-4b52-8f6c-f71099142762"
   },
   "outputs": [
    {
     "name": "stdout",
     "output_type": "stream",
     "text": [
      "0.7326344583323634\n"
     ]
    }
   ],
   "source": [
    "with open('takelab_output_MSRpar.txt', 'w') as f:\n",
    "        for item in predictions:\n",
    "            f.write(\"%s\\n\" % item)\n",
    "f.close()\n",
    "model_pred=np.array(post_process('takelab_output_MSRpar.txt'))\n",
    "\n",
    "\n",
    "corr,_ = pearsonr(test_label, model_pred)\n",
    "print (corr)"
   ]
  },
  {
   "cell_type": "markdown",
   "metadata": {
    "colab_type": "text",
    "id": "IzyJnDpn-AOA"
   },
   "source": [
    "# Using JC Similarity"
   ]
  },
  {
   "cell_type": "code",
   "execution_count": 31,
   "metadata": {
    "colab": {},
    "colab_type": "code",
    "id": "F0XPMGB8-AOB"
   },
   "outputs": [],
   "source": [
    "def calc_features(sa, sb):\n",
    "    olca = get_locase_words(sa)\n",
    "    olcb = get_locase_words(sb)\n",
    "    lca = [w for w in olca if w not in stopwords]\n",
    "    lcb = [w for w in olcb if w not in stopwords]\n",
    "    lema = get_lemmatized_words(sa)\n",
    "    lemb = get_lemmatized_words(sb)\n",
    "   \n",
    "    f = []\n",
    "    f += number_features(sa, sb)\n",
    "    f += case_matches(sa, sb)\n",
    "    f += stocks_matches(sa, sb)\n",
    "   \n",
    "    f += [\n",
    "            ngram_match(lca, lcb, 1),\n",
    "            ngram_match(lca, lcb, 2),\n",
    "            ngram_match(lca, lcb, 3),\n",
    "            ngram_match(lema, lemb, 1),\n",
    "            ngram_match(lema, lemb, 2),\n",
    "            ngram_match(lema, lemb, 3),\n",
    "            wn_sim_match(lema, lemb,1),\n",
    "            weighted_word_match(olca, olcb),\n",
    "            weighted_word_match(lema, lemb),\n",
    "            #wvec_sim(lema,lemb),\n",
    "            #weighted_wvec_sim(lema,lemb)\n",
    "            dist_sim(nyt_sim, lema, lemb),\n",
    "            #dist_sim(wiki_sim, lema, lemb),\n",
    "            weighted_dist_sim(nyt_sim, lema, lemb),\n",
    "            weighted_dist_sim(wiki_sim, lema, lemb),\n",
    "            relative_len_difference(lca, lcb),\n",
    "            relative_ic_difference(olca, olcb)\n",
    "        ]\n",
    "\n",
    "    return f\n",
    "\n",
    "if __name__ == \"__main__\":\n",
    "    \n",
    "   \n",
    "\n",
    "    '''scores = None\n",
    "    scores = [float(x) for x in open('../../train/STS.gs.MSRpar.txt','r')]'''\n",
    " \n",
    "    data=[]\n",
    "    c=0\n",
    "    for idx, sp in enumerate(load_data('../2017_takelab+cnn/train/sts_train.txt')):\n",
    "        #y = 0. if scores is None else scores[idx]\n",
    "        data+=[(calc_features(*sp))]\n",
    "        \n",
    "    data=np.array(data)   \n",
    "    data= np.append(data, train_cnn, axis=1)\n",
    "\n",
    "    scaler = MinMaxScaler()\n",
    "    scaler.fit(data)\n",
    "    data= scaler.transform(data)\n",
    "\n",
    "    \n",
    "    f= open('../2017_takelab+cnn/train/sts_train_scores.txt')\n",
    "    label= f.readlines()\n",
    "    label=[float(w.strip()) for w in label]\n",
    "    label=np.array(label).reshape(len(label),)\n",
    "   \n",
    "    "
   ]
  },
  {
   "cell_type": "code",
   "execution_count": 32,
   "metadata": {
    "colab": {
     "base_uri": "https://localhost:8080/",
     "height": 35
    },
    "colab_type": "code",
    "id": "-AmeVZRFUFcM",
    "outputId": "8e947bdc-7448-4214-bff6-c85455e64e1c"
   },
   "outputs": [
    {
     "name": "stdout",
     "output_type": "stream",
     "text": [
      "(1379, 22)\n"
     ]
    }
   ],
   "source": [
    "my_scorer = make_scorer(my_custom_function, greater_is_better=True)\n",
    "gs = GridSearchCV(SVR(kernel='rbf','poly'), param_grid={'C': [1,2,5,10,20, 50,100,200,500,1000],\n",
    "                                                 'gamma':[2,1,.5,.2,.1,.05,.02,.01,.005,.002]},scoring=my_scorer,\n",
    "                                                  cv=10,n_jobs=-1)\n",
    "gs.fit(data,label)\n",
    "m=gs.best_estimator_\n",
    "model=m.fit(data,label)\n",
    "    \n",
    "    \n",
    "\n",
    "test_data=[]\n",
    "for idx, sp in enumerate(load_data('../2017_takelab+cnn/test/sts_test.txt')):\n",
    "    #y = 0. if scores is None else scores[idx]\n",
    "    test_data+=[(calc_features(*sp))]\n",
    "    \n",
    "test_data=np.array(test_data)\n",
    "test_data=np.append(test_data,test_cnn,axis=1)\n",
    "print(test_data.shape)\n",
    "\n",
    "test_data= scaler.transform(test_data)\n",
    "\n",
    "f= open('../2017_takelab+cnn/test/sts_test_scores.txt')\n",
    "test_label= f.readlines()\n",
    "test_label=[float(w.strip()) for w in test_label]\n",
    "test_label=np.array(test_label).reshape(len(test_label),)\n",
    "\n",
    "'''test_data=[]\n",
    "for idx, sp in enumerate(load_data('trial1/STS.input.txt')):\n",
    "    y = 0. if scores is None else scores[idx]\n",
    "    test_data+=[(calc_features(*sp))]\n",
    "    \n",
    "test_data=np.array(test_data)\n",
    "\n",
    "f= open('trial1/STS.gs.txt')\n",
    "test_label= f.readlines()\n",
    "test_label=[float(w.strip()) for w in test_label]\n",
    "test_label=np.array(test_label).reshape(len(test_label),)'''\n",
    "\n",
    "predictions= model.predict(test_data)\n",
    "    "
   ]
  },
  {
   "cell_type": "code",
   "execution_count": 33,
   "metadata": {
    "colab": {
     "base_uri": "https://localhost:8080/",
     "height": 35
    },
    "colab_type": "code",
    "id": "dxxR7rSh-AOH",
    "outputId": "9b37d2c7-6e14-414a-e8c3-4036e052bc55"
   },
   "outputs": [
    {
     "name": "stdout",
     "output_type": "stream",
     "text": [
      "0.7360248056633834\n"
     ]
    }
   ],
   "source": [
    "with open('takelab_jc.txt', 'w') as f:\n",
    "        for item in predictions:\n",
    "            f.write(\"%s\\n\" % item)\n",
    "f.close()\n",
    "\n",
    "model_pred=np.array(post_process('takelab_jc.txt'))\n",
    "corr,_ = pearsonr(test_label, model_pred)\n",
    "print (corr)"
   ]
  },
  {
   "cell_type": "markdown",
   "metadata": {
    "colab_type": "text",
    "id": "Ev2CYJUR-AOM"
   },
   "source": [
    "# Using Lin Similarity"
   ]
  },
  {
   "cell_type": "code",
   "execution_count": 34,
   "metadata": {
    "colab": {},
    "colab_type": "code",
    "id": "ls5xsIId-AON"
   },
   "outputs": [
    {
     "name": "stdout",
     "output_type": "stream",
     "text": [
      "(1379, 22)\n"
     ]
    }
   ],
   "source": [
    "def calc_features(sa, sb):\n",
    "    olca = get_locase_words(sa)\n",
    "    olcb = get_locase_words(sb)\n",
    "    lca = [w for w in olca if w not in stopwords]\n",
    "    lcb = [w for w in olcb if w not in stopwords]\n",
    "    lema = get_lemmatized_words(sa)\n",
    "    lemb = get_lemmatized_words(sb)\n",
    "   \n",
    "    f = []\n",
    "    f += number_features(sa, sb)\n",
    "    f += case_matches(sa, sb)\n",
    "    f += stocks_matches(sa, sb)\n",
    "   \n",
    "    f += [\n",
    "            ngram_match(lca, lcb, 1),\n",
    "            ngram_match(lca, lcb, 2),\n",
    "            ngram_match(lca, lcb, 3),\n",
    "            ngram_match(lema, lemb, 1),\n",
    "            ngram_match(lema, lemb, 2),\n",
    "            ngram_match(lema, lemb, 3),\n",
    "            wn_sim_match(lema, lemb,2),\n",
    "            weighted_word_match(olca, olcb),\n",
    "            weighted_word_match(lema, lemb),\n",
    "            #wvec_sim(lema,lemb),\n",
    "            #weighted_wvec_sim(lema,lemb)\n",
    "            dist_sim(nyt_sim, lema, lemb),\n",
    "            #dist_sim(wiki_sim, lema, lemb),\n",
    "            weighted_dist_sim(nyt_sim, lema, lemb),\n",
    "            weighted_dist_sim(wiki_sim, lema, lemb),\n",
    "            relative_len_difference(lca, lcb),\n",
    "            relative_ic_difference(olca, olcb)\n",
    "        ]\n",
    "\n",
    "    return f\n",
    "\n",
    "if __name__ == \"__main__\":\n",
    "    \n",
    "   \n",
    "\n",
    "    '''scores = None\n",
    "    scores = [float(x) for x in open('../../train/STS.gs.MSRpar.txt','r')]'''\n",
    " \n",
    "    data=[]\n",
    "    c=0\n",
    "    for idx, sp in enumerate(load_data('../2017_takelab+cnn/train/sts_train.txt')):\n",
    "        #y = 0. if scores is None else scores[idx]\n",
    "        data+=[(calc_features(*sp))]\n",
    "        \n",
    "    data=np.array(data)   \n",
    "    data= np.append(data, train_cnn, axis=1)\n",
    "\n",
    "    scaler = MinMaxScaler()\n",
    "    scaler.fit(data)\n",
    "    data= scaler.transform(data)\n",
    "    \n",
    "    f= open('../2017_takelab+cnn/train/sts_train_scores.txt',encoding='utf-8')\n",
    "    label= f.readlines()\n",
    "    label=[float(w.strip()) for w in label]\n",
    "    label=np.array(label).reshape(len(label),)\n",
    "    \n",
    "    gs = GridSearchCV(SVR(kernel='rbf','poly'), param_grid={'C': [1,2,5,10,20, 50,100,200,500,1000],\n",
    "                                                 'gamma':[2,1,.5,.2,.1,.05,.02,.01,.005,.002]},scoring=my_scorer,\n",
    "                                                  cv=10,n_jobs=-1)\n",
    "    gs.fit(data,label)\n",
    "    m=gs.best_estimator_\n",
    "    model=m.fit(data,label)\n",
    "    \n",
    "    \n",
    "    \n",
    "    \n",
    "    test_data=[]\n",
    "    for idx, sp in enumerate(load_data('../2017_takelab+cnn/test/sts_test.txt')):\n",
    "        #y = 0. if scores is None else scores[idx]\n",
    "        test_data+=[(calc_features(*sp))]\n",
    "        \n",
    "    test_data=np.array(test_data)\n",
    "    test_data=np.append(test_data,test_cnn,axis=1)\n",
    "    print(test_data.shape)\n",
    "\n",
    "    test_data= scaler.transform(test_data)\n",
    "    \n",
    "    f= open('../2017_takelab+cnn/test/sts_test_scores.txt',encoding='utf-8')\n",
    "    test_label= f.readlines()\n",
    "    test_label=[float(w.strip()) for w in test_label]\n",
    "    test_label=np.array(test_label).reshape(len(test_label),)\n",
    "    \n",
    "    '''test_data=[]\n",
    "    for idx, sp in enumerate(load_data('trial1/STS.input.txt')):\n",
    "        y = 0. if scores is None else scores[idx]\n",
    "        test_data+=[(calc_features(*sp))]\n",
    "        \n",
    "    test_data=np.array(test_data)\n",
    "    \n",
    "    f= open('trial1/STS.gs.txt')\n",
    "    test_label= f.readlines()\n",
    "    test_label=[float(w.strip()) for w in test_label]\n",
    "    test_label=np.array(test_label).reshape(len(test_label),)'''\n",
    "    \n",
    "    predictions= model.predict(test_data)\n",
    "    \n",
    "    "
   ]
  },
  {
   "cell_type": "code",
   "execution_count": 35,
   "metadata": {
    "colab": {},
    "colab_type": "code",
    "id": "0TmJLHMg-AOT"
   },
   "outputs": [
    {
     "name": "stdout",
     "output_type": "stream",
     "text": [
      "0.7275749254371506\n"
     ]
    }
   ],
   "source": [
    "with open('takelab_lin.txt', 'w') as f:\n",
    "        for item in predictions:\n",
    "            f.write(\"%s\\n\" % item)\n",
    "f.close()\n",
    "model_pred=np.array(post_process('takelab_lin.txt'))\n",
    "corr,_ = pearsonr(test_label, model_pred)\n",
    "print (corr)"
   ]
  },
  {
   "cell_type": "markdown",
   "metadata": {
    "colab_type": "text",
    "id": "TqznzT8l-AOY"
   },
   "source": [
    "# word2vec with weighted_LSA_vec \n"
   ]
  },
  {
   "cell_type": "code",
   "execution_count": 36,
   "metadata": {
    "colab": {},
    "colab_type": "code",
    "id": "ZI-2hr_W-AOZ"
   },
   "outputs": [
    {
     "name": "stdout",
     "output_type": "stream",
     "text": [
      "(1379, 22)\n"
     ]
    }
   ],
   "source": [
    "def calc_features(sa, sb):\n",
    "    olca = get_locase_words(sa)\n",
    "    olcb = get_locase_words(sb)\n",
    "    lca = [w for w in olca if w not in stopwords]\n",
    "    lcb = [w for w in olcb if w not in stopwords]\n",
    "    lema = get_lemmatized_words(sa)\n",
    "    lemb = get_lemmatized_words(sb)\n",
    "   \n",
    "    f = []\n",
    "    f += number_features(sa, sb)\n",
    "    f += case_matches(sa, sb)\n",
    "    f += stocks_matches(sa, sb)\n",
    "   \n",
    "    f += [\n",
    "            ngram_match(lca, lcb, 1),\n",
    "            ngram_match(lca, lcb, 2),\n",
    "            ngram_match(lca, lcb, 3),\n",
    "            ngram_match(lema, lemb, 1),\n",
    "            ngram_match(lema, lemb, 2),\n",
    "            ngram_match(lema, lemb, 3),\n",
    "            wn_sim_match(lema, lemb,0),\n",
    "            weighted_word_match(olca, olcb),\n",
    "            weighted_word_match(lema, lemb),\n",
    "            wvec_sim(lema,lemb),\n",
    "            #weighted_wvec_sim(lema,lemb)\n",
    "            #dist_sim(nyt_sim, lema, lemb),\n",
    "            #dist_sim(wiki_sim, lema, lemb),\n",
    "            weighted_dist_sim(nyt_sim, lema, lemb),\n",
    "            weighted_dist_sim(wiki_sim, lema, lemb),\n",
    "            relative_len_difference(lca, lcb),\n",
    "            relative_ic_difference(olca, olcb)\n",
    "        ]\n",
    "\n",
    "    return f\n",
    "\n",
    "if __name__ == \"__main__\":\n",
    "    \n",
    "   \n",
    "\n",
    "    '''scores = None\n",
    "    scores = [float(x) for x in open('../../train/STS.gs.MSRpar.txt','r')]'''\n",
    " \n",
    "    data=[]\n",
    "    c=0\n",
    "    for idx, sp in enumerate(load_data('../2017_takelab+cnn/train/sts_train.txt')):\n",
    "        #y = 0. if scores is None else scores[idx]\n",
    "        data+=[(calc_features(*sp))]\n",
    "        \n",
    "    data=np.array(data)   \n",
    "    data= np.append(data, train_cnn, axis=1)\n",
    "\n",
    "    scaler = MinMaxScaler()\n",
    "    scaler.fit(data)\n",
    "    data= scaler.transform(data)\n",
    "    \n",
    "    f= open('../2017_takelab+cnn/train/sts_train_scores.txt', encoding='utf-8')\n",
    "    label= f.readlines()\n",
    "    label=[float(w.strip()) for w in label]\n",
    "    label=np.array(label).reshape(len(label),)\n",
    "    \n",
    "    gs = GridSearchCV(SVR(kernel='rbf','poly'), param_grid={'C': [1,2,5,10,20, 50,100,200,500,1000],\n",
    "                                                 'gamma':[2,1,.5,.2,.1,.05,.02,.01,.005,.002]},scoring=my_scorer,\n",
    "                                                  cv=10,n_jobs=-1)\n",
    "    gs.fit(data,label)\n",
    "    m=gs.best_estimator_\n",
    "    model=m.fit(data,label)\n",
    "    \n",
    "    \n",
    "    \n",
    "    \n",
    "    test_data=[]\n",
    "    for idx, sp in enumerate(load_data('../2017_takelab+cnn/test/sts_test.txt')):\n",
    "        #y = 0. if scores is None else scores[idx]\n",
    "        test_data+=[(calc_features(*sp))]\n",
    "        \n",
    "    test_data=np.array(test_data)\n",
    "    test_data=np.append(test_data,test_cnn,axis=1)\n",
    "    print(test_data.shape)\n",
    "    \n",
    "    test_data= scaler.transform(test_data)\n",
    "\n",
    "    f= open('../2017_takelab+cnn/test/sts_test_scores.txt',encoding='utf-8')\n",
    "    test_label= f.readlines()\n",
    "    test_label=[float(w.strip()) for w in test_label]\n",
    "    test_label=np.array(test_label).reshape(len(test_label),)\n",
    "    \n",
    "    '''test_data=[]\n",
    "    for idx, sp in enumerate(load_data('trial1/STS.input.txt')):\n",
    "        y = 0. if scores is None else scores[idx]\n",
    "        test_data+=[(calc_features(*sp))]\n",
    "        \n",
    "    test_data=np.array(test_data)\n",
    "    \n",
    "    f= open('trial1/STS.gs.txt')\n",
    "    test_label= f.readlines()\n",
    "    test_label=[float(w.strip()) for w in test_label]\n",
    "    test_label=np.array(test_label).reshape(len(test_label),)'''\n",
    "    \n",
    "    predictions= model.predict(test_data)\n",
    "    \n",
    "    "
   ]
  },
  {
   "cell_type": "code",
   "execution_count": 37,
   "metadata": {
    "colab": {},
    "colab_type": "code",
    "id": "ssbdsRbR-AOe"
   },
   "outputs": [
    {
     "name": "stdout",
     "output_type": "stream",
     "text": [
      "0.7127938629110661\n"
     ]
    }
   ],
   "source": [
    "with open('wv_wlsa.txt', 'w') as f:\n",
    "        for item in predictions:\n",
    "            f.write(\"%s\\n\" % item)\n",
    "f.close()\n",
    "model_pred=np.array(post_process('wv_wlsa.txt'))\n",
    "corr,_ = pearsonr(test_label, model_pred)\n",
    "print (corr)"
   ]
  },
  {
   "cell_type": "markdown",
   "metadata": {
    "colab_type": "text",
    "id": "icvis7Dd-AOk"
   },
   "source": [
    "# JC AND LIN Together"
   ]
  },
  {
   "cell_type": "code",
   "execution_count": null,
   "metadata": {
    "colab": {},
    "colab_type": "code",
    "id": "Ocqjz_Eh-AOl"
   },
   "outputs": [],
   "source": [
    "def calc_features(sa, sb):\n",
    "    olca = get_locase_words(sa)\n",
    "    olcb = get_locase_words(sb)\n",
    "    lca = [w for w in olca if w not in stopwords]\n",
    "    lcb = [w for w in olcb if w not in stopwords]\n",
    "    lema = get_lemmatized_words(sa)\n",
    "    lemb = get_lemmatized_words(sb)\n",
    "   \n",
    "    f = []\n",
    "    f += number_features(sa, sb)\n",
    "    f += case_matches(sa, sb)\n",
    "    f += stocks_matches(sa, sb)\n",
    "   \n",
    "    f += [\n",
    "            ngram_match(lca, lcb, 1),\n",
    "            ngram_match(lca, lcb, 2),\n",
    "            ngram_match(lca, lcb, 3),\n",
    "            ngram_match(lema, lemb, 1),\n",
    "            ngram_match(lema, lemb, 2),\n",
    "            ngram_match(lema, lemb, 3),\n",
    "            wn_sim_match(lema, lemb,1),\n",
    "            wn_sim_match(lema, lemb,2),\n",
    "            weighted_word_match(olca, olcb),\n",
    "            weighted_word_match(lema, lemb),\n",
    "            #wvec_sim(lema,lemb),\n",
    "            #weighted_wvec_sim(lema,lemb),\n",
    "            dist_sim(nyt_sim, lema, lemb),\n",
    "            #dist_sim(wiki_sim, lema, lemb),\n",
    "            #weighted_dist_sim(nyt_sim, lema, lemb),\n",
    "            #weighted_dist_sim(wiki_sim, lema, lemb),\n",
    "            relative_len_difference(lca, lcb),\n",
    "            relative_ic_difference(olca, olcb)\n",
    "        ]\n",
    "\n",
    "    return f\n",
    "\n",
    "if __name__ == \"__main__\":\n",
    "    \n",
    "   \n",
    "\n",
    "    '''scores = None\n",
    "    scores = [float(x) for x in open('../../train/STS.gs.MSRpar.txt','r')]'''\n",
    " \n",
    "    data=[]\n",
    "    c=0\n",
    "    for idx, sp in enumerate(load_data('../2017_takelab+cnn/train/sts_train.txt')):\n",
    "        #y = 0. if scores is None else scores[idx]\n",
    "        data+=[(calc_features(*sp))]\n",
    "        \n",
    "    data=np.array(data)   \n",
    "    data= np.append(data, train_cnn, axis=1)\n",
    "\n",
    "    scaler = MinMaxScaler()\n",
    "    scaler.fit(data)\n",
    "    data= scaler.transform(data)\n",
    "    \n",
    "    f= open('../2017_takelab+cnn/train/sts_train_scores.txt', encoding='utf-8')\n",
    "    label= f.readlines()\n",
    "    label=[float(w.strip()) for w in label]\n",
    "    label=np.array(label).reshape(len(label),)\n",
    "    \n",
    "    gs = GridSearchCV(SVR(kernel='rbf','poly'), param_grid={'C': [1,2,5,10,20, 50,100,200,500,1000],\n",
    "                                                 'gamma':[2,1,.5,.2,.1,.05,.02,.01,.005,.002]},scoring=my_scorer,\n",
    "                                                  cv=10,n_jobs=-1)\n",
    "    gs.fit(data,label)\n",
    "    m=gs.best_estimator_\n",
    "    model=m.fit(data,label)\n",
    "    \n",
    "    \n",
    "    \n",
    "    \n",
    "    test_data=[]\n",
    "    for idx, sp in enumerate(load_data('../2017_takelab+cnn/test/sts_test.txt')):\n",
    "        #y = 0. if scores is None else scores[idx]\n",
    "        test_data+=[(calc_features(*sp))]\n",
    "        \n",
    "    test_data=np.array(test_data)\n",
    "    test_data=np.append(test_data,test_cnn,axis=1)\n",
    "    print(test_data.shape)\n",
    "    \n",
    "    test_data= scaler.transform(test_data)\n",
    "\n",
    "    f= open('../2017_takelab+cnn/test/sts_test_scores.txt')\n",
    "    test_label= f.readlines()\n",
    "    test_label=[float(w.strip()) for w in test_label]\n",
    "    test_label=np.array(test_label).reshape(len(test_label),)\n",
    "    \n",
    "    '''test_data=[]\n",
    "    for idx, sp in enumerate(load_data('trial1/STS.input.txt')):\n",
    "        y = 0. if scores is None else scores[idx]\n",
    "        test_data+=[(calc_features(*sp))]\n",
    "        \n",
    "    test_data=np.array(test_data)\n",
    "    \n",
    "    f= open('trial1/STS.gs.txt')\n",
    "    test_label= f.readlines()\n",
    "    test_label=[float(w.strip()) for w in test_label]\n",
    "    test_label=np.array(test_label).reshape(len(test_label),)'''\n",
    "    \n",
    "    predictions= model.predict(test_data)\n",
    "    \n",
    "    "
   ]
  },
  {
   "cell_type": "code",
   "execution_count": null,
   "metadata": {
    "colab": {},
    "colab_type": "code",
    "id": "OIrGBG4Y-AOs"
   },
   "outputs": [],
   "source": [
    "with open('jc_lin.txt', 'w') as f:\n",
    "        for item in predictions:\n",
    "            f.write(\"%s\\n\" % item)\n",
    "f.close()\n",
    "\n",
    "model_pred=np.array(post_process('jc_lin.txt'))\n",
    "corr,_ = pearsonr(test_label, model_pred)\n",
    "print (corr)"
   ]
  },
  {
   "cell_type": "markdown",
   "metadata": {
    "colab_type": "text",
    "id": "9bJvGKmI-AOx"
   },
   "source": [
    "# word2vec with weighted_word2vec"
   ]
  },
  {
   "cell_type": "code",
   "execution_count": null,
   "metadata": {
    "colab": {},
    "colab_type": "code",
    "id": "B4Ccvhp6-AOy"
   },
   "outputs": [],
   "source": [
    "def calc_features(sa, sb):\n",
    "    olca = get_locase_words(sa)\n",
    "    olcb = get_locase_words(sb)\n",
    "    lca = [w for w in olca if w not in stopwords]\n",
    "    lcb = [w for w in olcb if w not in stopwords]\n",
    "    lema = get_lemmatized_words(sa)\n",
    "    lemb = get_lemmatized_words(sb)\n",
    "   \n",
    "    f = []\n",
    "    f += number_features(sa, sb)\n",
    "    f += case_matches(sa, sb)\n",
    "    f += stocks_matches(sa, sb)\n",
    "   \n",
    "    f += [\n",
    "            ngram_match(lca, lcb, 1),\n",
    "            ngram_match(lca, lcb, 2),\n",
    "            ngram_match(lca, lcb, 3),\n",
    "            ngram_match(lema, lemb, 1),\n",
    "            ngram_match(lema, lemb, 2),\n",
    "            ngram_match(lema, lemb, 3),\n",
    "            wn_sim_match(lema, lemb,0),\n",
    "            wn_sim_match(lema, lemb,1),\n",
    "            wn_sim_match(lema, lemb,2),\n",
    "            weighted_word_match(olca, olcb),\n",
    "            weighted_word_match(lema, lemb),\n",
    "            wvec_sim(lema,lemb),\n",
    "            weighted_wvec_sim(lema,lemb),\n",
    "            #dist_sim(nyt_sim, lema, lemb),\n",
    "            #dist_sim(wiki_sim, lema, lemb),\n",
    "            #weighted_dist_sim(nyt_sim, lema, lemb),\n",
    "            #weighted_dist_sim(wiki_sim, lema, lemb),\n",
    "            relative_len_difference(lca, lcb),\n",
    "            relative_ic_difference(olca, olcb)\n",
    "        ]\n",
    "\n",
    "    return f\n",
    "\n",
    "if __name__ == \"__main__\":\n",
    "    \n",
    "   \n",
    "\n",
    "    '''scores = None\n",
    "    scores = [float(x) for x in open('../../train/STS.gs.MSRpar.txt','r')]'''\n",
    " \n",
    "    data=[]\n",
    "    c=0\n",
    "    for idx, sp in enumerate(load_data('../2017_takelab+cnn/train/sts_train.txt')):\n",
    "        #y = 0. if scores is None else scores[idx]\n",
    "        data+=[(calc_features(*sp))]\n",
    "        \n",
    "    data=np.array(data)   \n",
    "    data= np.append(data, train_cnn, axis=1)\n",
    "\n",
    "    scaler = MinMaxScaler()\n",
    "    scaler.fit(data)\n",
    "    data= scaler.transform(data)\n",
    "    \n",
    "    f= open('../2017_takelab+cnn/train/sts_train_scores.txt',encoding='utf-8')\n",
    "    label= f.readlines()\n",
    "    label=[float(w.strip()) for w in label]\n",
    "    label=np.array(label).reshape(len(label),)\n",
    "    \n",
    "    my_scorer = make_scorer(my_custom_function, greater_is_better=True)\n",
    "   \n",
    "    gs = GridSearchCV(SVR(kernel='rbf','poly'), param_grid={'C': [1,2,5,10,20, 50,100,200,500,1000],\n",
    "                                                 'gamma':[2,1,.5,.2,.1,.05,.02,.01,.005,.002]},scoring=my_scorer,\n",
    "                                                  cv=10,n_jobs=-1)\n",
    "    gs.fit(data,label)\n",
    "    m=gs.best_estimator_\n",
    "    model=m.fit(data,label)\n",
    "    \n",
    "    \n",
    "    \n",
    "  \n",
    "    gs.fit(data,label)\n",
    "    m=gs.best_estimator_\n",
    "    model=m.fit(data,label)\n",
    "    \n",
    "    \n",
    "    test_data=[]\n",
    "    for idx, sp in enumerate(load_data('../2017_takelab+cnn/test/sts_test.txt')):\n",
    "        #y = 0. if scores is None else scores[idx]\n",
    "        test_data+=[(calc_features(*sp))]\n",
    "        \n",
    "    test_data=np.array(test_data)\n",
    "    test_data=np.append(test_data,test_cnn,axis=1)\n",
    "    #print(test_data.shape)\n",
    "\n",
    "    test_data= scaler.transform(test_data)\n",
    "    \n",
    "    f= open('../2017_takelab+cnn/test/sts_test_scores.txt')\n",
    "    test_label= f.readlines()\n",
    "    test_label=[float(w.strip()) for w in test_label]\n",
    "    test_label=np.array(test_label).reshape(len(test_label),)\n",
    "    \n",
    "    \n",
    "    predictions= model.predict(test_data)\n",
    "    \n",
    "    "
   ]
  },
  {
   "cell_type": "code",
   "execution_count": null,
   "metadata": {
    "colab": {},
    "colab_type": "code",
    "id": "WiDv1K1Q-AO3"
   },
   "outputs": [],
   "source": [
    "with open('wv_wwv.txt', 'w') as f:\n",
    "        for item in predictions:\n",
    "            f.write(\"%s\\n\" % item)\n",
    "f.close()\n",
    "\n",
    "model_pred=np.array(post_process('wv_wwv.txt'))\n",
    "corr,_ = pearsonr(test_label, model_pred)\n",
    "print (corr)"
   ]
  },
  {
   "cell_type": "markdown",
   "metadata": {
    "colab_type": "text",
    "id": "dmnlH16n-AO9"
   },
   "source": [
    "# word2vec_wwv_jc_lin"
   ]
  },
  {
   "cell_type": "code",
   "execution_count": null,
   "metadata": {
    "colab": {},
    "colab_type": "code",
    "id": "d2eOioqW-AO-"
   },
   "outputs": [],
   "source": [
    "def calc_features(sa, sb):\n",
    "    olca = get_locase_words(sa)\n",
    "    olcb = get_locase_words(sb)\n",
    "    lca = [w for w in olca if w not in stopwords]\n",
    "    lcb = [w for w in olcb if w not in stopwords]\n",
    "    lema = get_lemmatized_words(sa)\n",
    "    lemb = get_lemmatized_words(sb)\n",
    "   \n",
    "    f = []\n",
    "    f += number_features(sa, sb)\n",
    "    f += case_matches(sa, sb)\n",
    "    f += stocks_matches(sa, sb)\n",
    "   \n",
    "    f += [\n",
    "            ngram_match(lca, lcb, 1),\n",
    "            ngram_match(lca, lcb, 2),\n",
    "            ngram_match(lca, lcb, 3),\n",
    "            ngram_match(lema, lemb, 1),\n",
    "            ngram_match(lema, lemb, 2),\n",
    "            ngram_match(lema, lemb, 3),\n",
    "            wn_sim_match(lema, lemb,1),\n",
    "            wn_sim_match(lema, lemb,2),\n",
    "            weighted_word_match(olca, olcb),\n",
    "            weighted_word_match(lema, lemb),\n",
    "            wvec_sim(lema,lemb),\n",
    "            weighted_wvec_sim(lema,lemb),\n",
    "            #dist_sim(nyt_sim, lema, lemb),\n",
    "            #dist_sim(wiki_sim, lema, lemb),\n",
    "            #weighted_dist_sim(nyt_sim, lema, lemb),\n",
    "            #weighted_dist_sim(wiki_sim, lema, lemb),\n",
    "            relative_len_difference(lca, lcb),\n",
    "            relative_ic_difference(olca, olcb)\n",
    "        ]\n",
    "\n",
    "    return f\n",
    "\n",
    "if __name__ == \"__main__\":\n",
    "    \n",
    "   \n",
    "\n",
    "    '''scores = None\n",
    "    scores = [float(x) for x in open('../../train/STS.gs.MSRpar.txt','r')]'''\n",
    " \n",
    "    data=[]\n",
    "    c=0\n",
    "    for idx, sp in enumerate(load_data('../2017_takelab+cnn/train/sts_train.txt')):\n",
    "        #y = 0. if scores is None else scores[idx]\n",
    "        data+=[(calc_features(*sp))]\n",
    "        \n",
    "    data=np.array(data)   \n",
    "    data= np.append(data, train_cnn, axis=1)\n",
    "\n",
    "    scaler = MinMaxScaler()\n",
    "    scaler.fit(data)\n",
    "    data= scaler.transform(data)\n",
    "    \n",
    "    f= open('../2017_takelab+cnn/train/sts_train_scores.txt',encoding='utf-8')\n",
    "    label= f.readlines()\n",
    "    label=[float(w.strip()) for w in label]\n",
    "    label=np.array(label).reshape(len(label),)\n",
    "    \n",
    "    gs = GridSearchCV(SVR(kernel='rbf','poly'), param_grid={'C': [1,2,5,10,20, 50,100,200,500,1000],\n",
    "                                                 'gamma':[2,1,.5,.2,.1,.05,.02,.01,.005,.002]},scoring=my_scorer,\n",
    "                                                  cv=10,n_jobs=-1)\n",
    "    gs.fit(data,label)\n",
    "    m=gs.best_estimator_\n",
    "    model=m.fit(data,label)\n",
    "    \n",
    "    \n",
    "    \n",
    "    \n",
    "    test_data=[]\n",
    "    for idx, sp in enumerate(load_data('../2017_takelab+cnn/test/sts_test.txt')):\n",
    "        #y = 0. if scores is None else scores[idx]\n",
    "        test_data+=[(calc_features(*sp))]\n",
    "        \n",
    "    test_data=np.array(test_data)\n",
    "    test_data=np.append(test_data,test_cnn,axis=1)\n",
    "    print(test_data.shape)\n",
    "    \n",
    "    test_data= scaler.transform(test_data)\n",
    "\n",
    "    f= open('../2017_takelab+cnn/test/sts_test_scores.txt')\n",
    "    test_label= f.readlines()\n",
    "    test_label=[float(w.strip()) for w in test_label]\n",
    "    test_label=np.array(test_label).reshape(len(test_label),)\n",
    "    \n",
    " \n",
    "    \n",
    "    predictions= model.predict(test_data)\n",
    "    \n",
    "    "
   ]
  },
  {
   "cell_type": "code",
   "execution_count": null,
   "metadata": {
    "colab": {},
    "colab_type": "code",
    "id": "HT6_AGv6-APE"
   },
   "outputs": [],
   "source": [
    "with open('full.txt', 'w') as f:\n",
    "        for item in predictions:\n",
    "            f.write(\"%s\\n\" % item)\n",
    "f.close()\n",
    "model_pred=np.array(post_process('full.txt'))\n",
    "corr,_ = pearsonr(test_label, model_pred)\n",
    "print (corr)"
   ]
  },
  {
   "cell_type": "code",
   "execution_count": null,
   "metadata": {
    "colab": {},
    "colab_type": "code",
    "id": "MquUE3B7-APJ"
   },
   "outputs": [],
   "source": []
  },
  {
   "cell_type": "code",
   "execution_count": null,
   "metadata": {},
   "outputs": [],
   "source": []
  }
 ],
 "metadata": {
  "colab": {
   "collapsed_sections": [],
   "machine_shape": "hm",
   "name": "takelab_word2vec_kl_cnn_code.ipynb",
   "provenance": [],
   "toc_visible": true
  },
  "kernelspec": {
   "display_name": "Python 3",
   "language": "python",
   "name": "python3"
  },
  "language_info": {
   "codemirror_mode": {
    "name": "ipython",
    "version": 3
   },
   "file_extension": ".py",
   "mimetype": "text/x-python",
   "name": "python",
   "nbconvert_exporter": "python",
   "pygments_lexer": "ipython3",
   "version": "3.7.4"
  }
 },
 "nbformat": 4,
 "nbformat_minor": 1
}
